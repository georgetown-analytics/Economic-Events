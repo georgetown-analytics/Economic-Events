{
 "cells": [
  {
   "cell_type": "markdown",
   "metadata": {},
   "source": [
    "# Code to clean and concatenate csv file and initiate text analysis\n",
    "\n",
    "@Jorge de Leon \n",
    "This code cleans csv files and concatenates files to a pandas dataframe"
   ]
  },
  {
   "cell_type": "markdown",
   "metadata": {},
   "source": [
    "## Set-up"
   ]
  },
  {
   "cell_type": "code",
   "execution_count": null,
   "metadata": {},
   "outputs": [],
   "source": [
    "import pandas as pd \n",
    "from glob import glob"
   ]
  },
  {
   "cell_type": "markdown",
   "metadata": {},
   "source": [
    "Create list of files that will be concatenated"
   ]
  },
  {
   "cell_type": "code",
   "execution_count": null,
   "metadata": {},
   "outputs": [],
   "source": [
    "test_files = sorted(glob('theguardian/articles/microsoft/*.csv'))\n",
    "test_files"
   ]
  },
  {
   "cell_type": "code",
   "execution_count": null,
   "metadata": {},
   "outputs": [],
   "source": [
    "#intialize empty list that we will append dataframes to\n",
    "all_files = []\n",
    " \n",
    " \n",
    "#write a for loop that will go through each of the file name through globbing and the end result will be the list of dataframes\n",
    "for file in test_files:\n",
    "    try:\n",
    "        articles = pd.read_csv(file)\n",
    "        all_files.append(articles)\n",
    "    except pd.errors.EmptyDataError:\n",
    "        print('Note: filename.csv was empty. Skipping')\n",
    "        continue #will skip the rest of the block and move to next file "
   ]
  },
  {
   "cell_type": "markdown",
   "metadata": {},
   "source": [
    "The dataframe will be used for data analysis"
   ]
  },
  {
   "cell_type": "code",
   "execution_count": null,
   "metadata": {},
   "outputs": [],
   "source": [
    "print(all_articles)"
   ]
  }
 ],
 "metadata": {
  "kernelspec": {
   "display_name": "Python 3",
   "language": "python",
   "name": "python3"
  },
  "language_info": {
   "codemirror_mode": {
    "name": "ipython",
    "version": 3
   },
   "file_extension": ".py",
   "mimetype": "text/x-python",
   "name": "python",
   "nbconvert_exporter": "python",
   "pygments_lexer": "ipython3",
   "version": "3.7.6"
  }
 },
 "nbformat": 4,
 "nbformat_minor": 4
}
