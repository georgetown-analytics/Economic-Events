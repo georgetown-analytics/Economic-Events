{
 "cells": [
  {
   "cell_type": "markdown",
   "metadata": {},
   "source": [
    "# Google Trends API Connections for seach terms\n",
    "\n",
    "@Jorge de Leon.\n",
    "\n",
    "This notebook accesses data from Google Trends through its API. "
   ]
  },
  {
   "cell_type": "code",
   "execution_count": 2,
   "metadata": {},
   "outputs": [],
   "source": [
    "#Set up\n",
    "import os\n",
    "os.chdir(\"..\")\n",
    "\n",
    "import pandas as pd\n",
    "from simplifiedpytrends.request import TrendReq"
   ]
  },
  {
   "cell_type": "code",
   "execution_count": 5,
   "metadata": {},
   "outputs": [],
   "source": [
    "#Create connection with Google\n",
    "pytrends = TrendReq(hl='en-US', tz=300)"
   ]
  },
  {
   "cell_type": "code",
   "execution_count": 8,
   "metadata": {},
   "outputs": [],
   "source": [
    "def google_trends(i):\n",
    "    pytrends.build_payload(i, cat=0, timeframe='2004-01-01 2020-05-17', geo='US', gprop='')\n",
    "    firm_dict = pytrends.interest_over_time()\n",
    "    firm_df = pd.DataFrame(firm_dict)\n",
    "    firm_df['date'] = pd.to_datetime(firm_df['timestamp'],unit='s')\n",
    "    firm_df = firm_df.drop(['timestamp'], axis=1)\n",
    "    firm_df = firm_df.rename(columns={'data': 'value'})\n",
    "    firm_df.to_csv('Economic-Events\\\\constructed\\\\google_trends' + str(i) + '.csv', index = False)"
   ]
  },
  {
   "cell_type": "code",
   "execution_count": 11,
   "metadata": {},
   "outputs": [],
   "source": [
    "firms = [[\"Alexion\"],[\"Amgen\"],[\"Biogen\"],[\"Gilead\"],[\"Incyte\"],[\"Regeneron\"],[\"Vertex\"]]\n",
    "\n",
    "for firm in firms:\n",
    "    google_trends(firm)"
   ]
  }
 ],
 "metadata": {
  "kernelspec": {
   "display_name": "Python 3",
   "language": "python",
   "name": "python3"
  },
  "language_info": {
   "codemirror_mode": {
    "name": "ipython",
    "version": 3
   },
   "file_extension": ".py",
   "mimetype": "text/x-python",
   "name": "python",
   "nbconvert_exporter": "python",
   "pygments_lexer": "ipython3",
   "version": "3.7.6"
  }
 },
 "nbformat": 4,
 "nbformat_minor": 4
}
