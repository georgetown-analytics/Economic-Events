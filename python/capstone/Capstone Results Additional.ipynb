{
 "cells": [
  {
   "cell_type": "code",
   "execution_count": null,
   "metadata": {},
   "outputs": [],
   "source": [
    "import os\n",
    "os.chdir(\"..\")\n",
    "\n",
    "\n",
    "import pandas as pd\n",
    "import scipy.stats as stats"
   ]
  },
  {
   "cell_type": "code",
   "execution_count": null,
   "metadata": {},
   "outputs": [],
   "source": [
    "bio_merge_sample_df=\\\n",
    "pd.read_csv(\"constructed\\\\capstone\\\\bio_merge_sample.csv\", sep=',')\n",
    "bio_merge_sample_df=bio_merge_sample_df.loc[:, ~bio_merge_sample_df.columns.str.contains('^Unnamed')]\n",
    "bio_merge_sample_df=bio_merge_sample_df.reset_index(drop=True)"
   ]
  },
  {
   "cell_type": "code",
   "execution_count": null,
   "metadata": {
    "scrolled": true
   },
   "outputs": [],
   "source": [
    "bio_merge_sample_df.head(10)"
   ]
  },
  {
   "cell_type": "code",
   "execution_count": null,
   "metadata": {},
   "outputs": [],
   "source": [
    "bio_merge_sample_df.shape"
   ]
  },
  {
   "cell_type": "code",
   "execution_count": null,
   "metadata": {},
   "outputs": [],
   "source": [
    "#t-test to compare abnormal returns on sec filing days: Average return on days with SEC filings\n",
    "#has more variance\n",
    "bio_merge_sample_df['abs_abnormal_return']=abs(bio_merge_sample_df['arith_resid'])\n",
    "returns_nosec=bio_merge_sample_df.loc[bio_merge_sample_df.path.isnull()]['abs_abnormal_return']\n",
    "returns_sec=bio_merge_sample_df[bio_merge_sample_df.path.notnull()]['abs_abnormal_return']\n",
    "returns_sec=bio_merge_sample_df[bio_merge_sample_df['path']!=\"NaN\"]['abs_abnormal_return']\n",
    "t_stat, p_val = stats.ttest_ind(returns_nosec, returns_sec, equal_var=False)\n",
    "t_stat\n",
    "p_val"
   ]
  },
  {
   "cell_type": "code",
   "execution_count": null,
   "metadata": {},
   "outputs": [],
   "source": [
    "returns_nosec.describe()"
   ]
  },
  {
   "cell_type": "code",
   "execution_count": null,
   "metadata": {},
   "outputs": [],
   "source": [
    "returns_sec.describe()"
   ]
  },
  {
   "cell_type": "code",
   "execution_count": null,
   "metadata": {},
   "outputs": [],
   "source": [
    "#compare Psychosocial Words and TFID-selected words for biotech sample\n",
    "words_df= pd.read_csv(\"input files\\\\capstone\\\\capstone_sentiment.csv\")\n",
    "words_df=words_df.loc[:, ~words_df.columns.str.contains('^Unnamed')]\n",
    "words_df=words_df.reset_index(drop=True)\n",
    "words_df['word']=words_df['word'].str.lower()\n",
    "#words_df.head(10)\n",
    "\n",
    "bio_dataset_features= pd.read_csv(\"constructed\\\\bio_dataset_features.csv\")\n",
    "bio_dataset_features=bio_dataset_features.loc[:, ~bio_dataset_features.columns.str.contains('^Unnamed')]\n",
    "bio_dataset_features=bio_dataset_features.reset_index(drop=True)\n",
    "#bio_dataset_features.head(10)\n",
    "\n",
    "comparison_df=pd.merge(words_df, bio_dataset_features, how='inner', \\\n",
    "on=['word'])\n",
    "\n",
    "comparison_df.head(20)\n"
   ]
  },
  {
   "cell_type": "code",
   "execution_count": null,
   "metadata": {},
   "outputs": [],
   "source": [
    "#compare Psychosocial Words and TFID-selected words for large sample:\n",
    "all_features_features= pd.read_csv(\"constructed\\\\Large_dataset_features.csv\")\n",
    "all_features_features=all_features_features.loc[:, ~all_features_features.columns.str.contains('^Unnamed')]\n",
    "all_features_features=all_features_features.reset_index(drop=True)\n",
    "\n",
    "\n",
    "all_comparison_df=pd.merge(words_df, all_features_features, how='inner', \\\n",
    "on=['word'])\n",
    "\n",
    "all_comparison_df.head(20)"
   ]
  },
  {
   "cell_type": "code",
   "execution_count": null,
   "metadata": {},
   "outputs": [],
   "source": []
  }
 ],
 "metadata": {
  "kernelspec": {
   "display_name": "Python 3",
   "language": "python",
   "name": "python3"
  },
  "language_info": {
   "codemirror_mode": {
    "name": "ipython",
    "version": 3
   },
   "file_extension": ".py",
   "mimetype": "text/x-python",
   "name": "python",
   "nbconvert_exporter": "python",
   "pygments_lexer": "ipython3",
   "version": "3.7.6"
  }
 },
 "nbformat": 4,
 "nbformat_minor": 4
}
