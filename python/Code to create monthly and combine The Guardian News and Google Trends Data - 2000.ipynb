{
 "cells": [
  {
   "cell_type": "markdown",
   "metadata": {},
   "source": [
    "# Code To clean the Guardian News and Google Trends Data \n",
    "\n",
    "@Jorge de Leon "
   ]
  },
  {
   "cell_type": "code",
   "execution_count": null,
   "metadata": {},
   "outputs": [],
   "source": [
    "#Set up\n",
    "import os\n",
    "os.chdir(\"..\")\n",
    "\n",
    "import pandas as pd"
   ]
  },
  {
   "cell_type": "code",
   "execution_count": null,
   "metadata": {},
   "outputs": [],
   "source": [
    "os. getcwd() "
   ]
  },
  {
   "cell_type": "markdown",
   "metadata": {},
   "source": [
    "## Google Trends Data"
   ]
  },
  {
   "cell_type": "code",
   "execution_count": null,
   "metadata": {},
   "outputs": [],
   "source": [
    "#import base file \n",
    "final_dataset = pd.read_csv('input files\\\\base_file.csv')\n",
    "\n",
    "\n",
    "#import files from Google Trends Data  \n",
    "alexion_gt_data = pd.read_csv(\"constructed\\\\google_trends['Alexion'].csv\")\n",
    "amgen_gt_data = pd.read_csv(\"constructed\\\\google_trends['Amgen'].csv\")\n",
    "biogen_gt_data = pd.read_csv(\"constructed\\\\google_trends['Biogen'].csv\")\n",
    "gilead_gt_data = pd.read_csv(\"constructed\\\\google_trends['Gilead'].csv\")\n",
    "incyte_gt_data = pd.read_csv(\"constructed\\\\google_trends['Incyte'].csv\")\n",
    "regeneron_gt_data = pd.read_csv(\"constructed\\\\google_trends['Regeneron'].csv\")\n",
    "vertex_gt_data = pd.read_csv(\"constructed\\\\google_trends['Vertex'].csv\")"
   ]
  },
  {
   "cell_type": "code",
   "execution_count": null,
   "metadata": {},
   "outputs": [],
   "source": [
    "final_dataset['ticker'].unique()"
   ]
  },
  {
   "cell_type": "code",
   "execution_count": null,
   "metadata": {},
   "outputs": [],
   "source": [
    "#Add a new column\n",
    "alexion_gt_data['ticker'] = 'ALXN'\n",
    "amgen_gt_data['ticker'] = 'AMGN'\n",
    "biogen_gt_data['ticker'] = 'BIIB'\n",
    "gilead_gt_data['ticker'] = 'GILD'\n",
    "incyte_gt_data['ticker'] = 'INCY'\n",
    "regeneron_gt_data['ticker'] = 'REGN'\n",
    "vertex_gt_data['ticker'] = 'VRTX'"
   ]
  },
  {
   "cell_type": "code",
   "execution_count": null,
   "metadata": {},
   "outputs": [],
   "source": [
    "#Concatenate and create a dataset\n",
    "frames = [alexion_gt_data, amgen_gt_data, biogen_gt_data,gilead_gt_data,\n",
    "         incyte_gt_data,regeneron_gt_data,vertex_gt_data]\n",
    "\n",
    "google_trends_data = pd.concat(frames)"
   ]
  },
  {
   "cell_type": "code",
   "execution_count": null,
   "metadata": {},
   "outputs": [],
   "source": [
    "#Merge files to final_dataset\n",
    "final_dataset = pd.merge(final_dataset, google_trends_data,how='left',on=['ticker','date'])\n",
    "final_dataset = final_dataset.rename(columns={'value':'goo_trends_value'})\n",
    "final_dataset['date'] = pd.to_datetime(final_dataset['date'])\n"
   ]
  },
  {
   "cell_type": "markdown",
   "metadata": {},
   "source": [
    "## The Guardian News Data"
   ]
  },
  {
   "cell_type": "code",
   "execution_count": null,
   "metadata": {},
   "outputs": [],
   "source": [
    "#Import files from the Guardian News to clean \n",
    "amgen_data = pd.read_csv('python\\\\theguardian\\\\amgen\\\\theguardian_amgen_data.csv')\n",
    "biogen_data = pd.read_csv('python\\\\theguardian\\\\biogen\\\\theguardian_biogen_data.csv')\n",
    "gilead_data = pd.read_csv('python\\\\theguardian\\\\gilead\\\\theguardian_gilead_data.csv')\n",
    "incyte_data = pd.read_csv('python\\\\theguardian\\\\incyte\\\\theguardian_incyte_data.csv')\n",
    "regeneron_data = pd.read_csv('python\\\\theguardian\\\\regeneron\\\\theguardian_regeneron_data.csv') \n",
    "vertex_data = pd.read_csv('python\\\\theguardian\\\\vertex\\\\theguardian_vertex_data.csv')\n",
    "biotec_data = pd.read_csv('python\\\\theguardian\\\\biotechnology\\\\theguardian_biotechnology_data.csv')\n",
    "pharma_data = pd.read_csv('python\\\\theguardian\\\\pharmaceutical\\\\theguardian_pharmaceutical_data.csv')"
   ]
  },
  {
   "cell_type": "code",
   "execution_count": null,
   "metadata": {},
   "outputs": [],
   "source": [
    "#create list of the dataframes\n",
    "guardian_frames = [amgen_data, biogen_data, gilead_data, incyte_data, regeneron_data,\n",
    "                   vertex_data, biotec_data, pharma_data]"
   ]
  },
  {
   "cell_type": "code",
   "execution_count": null,
   "metadata": {},
   "outputs": [],
   "source": [
    "#Create function to create month and year column \n",
    "#which will be used for creating monthly averages from daily data\n",
    "def generate_grouper(df):\n",
    "    df['date'] = pd.to_datetime(df['date'])\n",
    "    df['m_year'] = df['date'].dt.strftime('%Y-%m')"
   ]
  },
  {
   "cell_type": "code",
   "execution_count": null,
   "metadata": {},
   "outputs": [],
   "source": [
    "#Apply function\n",
    "for df in guardian_frames:\n",
    "    generate_grouper(df)"
   ]
  },
  {
   "cell_type": "code",
   "execution_count": null,
   "metadata": {},
   "outputs": [],
   "source": [
    "def generate_monthly_dataset(frame):\n",
    "    frame = frame.groupby('m_year').agg({\n",
    "    \"sentiment_polarity\" : [\"mean\"], \n",
    "    \"sentiment_subjectivity\" : [\"mean\"],\n",
    "    \"word_count\" : [\"sum\"],  \n",
    "    \"total_words\" : [\"sum\"],\n",
    "    \"no_articles\" : [\"sum\"]\n",
    "    })\n",
    "    return frame"
   ]
  },
  {
   "cell_type": "code",
   "execution_count": null,
   "metadata": {},
   "outputs": [],
   "source": [
    "#Apply formula to all dataframes\n",
    "amgen_data_m = generate_monthly_dataset(amgen_data)\n",
    "biogen_data_m = generate_monthly_dataset(biogen_data)\n",
    "gilead_data_m = generate_monthly_dataset(gilead_data)\n",
    "incyte_data_m = generate_monthly_dataset(incyte_data)\n",
    "regeneron_data_m = generate_monthly_dataset(regeneron_data)               \n",
    "vertex_data_m = generate_monthly_dataset(vertex_data)\n",
    "biotec_data_m = generate_monthly_dataset(biotec_data)\n",
    "pharma_data_m = generate_monthly_dataset(pharma_data)"
   ]
  },
  {
   "cell_type": "code",
   "execution_count": null,
   "metadata": {},
   "outputs": [],
   "source": [
    "#Reset generated index\n",
    "amgen_data_m = amgen_data_m.reset_index()\n",
    "biogen_data_m = biogen_data_m .reset_index()\n",
    "gilead_data_m = gilead_data_m.reset_index()\n",
    "incyte_data_m = incyte_data_m.reset_index()\n",
    "regeneron_data_m = regeneron_data_m.reset_index()\n",
    "vertex_data_m = vertex_data_m.reset_index()\n",
    "biotec_data_m = biotec_data_m.reset_index()\n",
    "pharma_data_m = pharma_data_m.reset_index()"
   ]
  },
  {
   "cell_type": "code",
   "execution_count": null,
   "metadata": {},
   "outputs": [],
   "source": [
    "#Add ticker column to dataframes\n",
    "amgen_data_m['ticker'] = 'AMGN'\n",
    "biogen_data_m['ticker'] = 'BIIB'\n",
    "gilead_data_m['ticker'] = 'GILD'\n",
    "incyte_data_m['ticker'] = 'INCY'\n",
    "regeneron_data_m['ticker'] = 'REGN'\n",
    "vertex_data_m['ticker'] = 'VRTX'"
   ]
  },
  {
   "cell_type": "code",
   "execution_count": null,
   "metadata": {},
   "outputs": [],
   "source": [
    "#Clean column to be able to concatenate \n",
    "#Amgen\n",
    "amgen_data_m['m_year'] = pd.to_datetime(amgen_data_m['m_year'])\n",
    "amgen_data_m = amgen_data_m.rename(columns={'m_year':'date'})\n",
    "\n",
    "#biogen\n",
    "biogen_data_m['m_year'] = pd.to_datetime(biogen_data_m['m_year'])\n",
    "biogen_data_m = biogen_data_m.rename(columns={'m_year':'date'})\n",
    "\n",
    "#gilead\n",
    "gilead_data_m['m_year'] = pd.to_datetime(gilead_data_m['m_year'])\n",
    "gilead_data_m = gilead_data_m.rename(columns={'m_year':'date'})\n",
    "\n",
    "#incyte\n",
    "incyte_data_m['m_year'] = pd.to_datetime(incyte_data_m['m_year'])\n",
    "incyte_data_m = incyte_data_m.rename(columns={'m_year':'date'})\n",
    "\n",
    "#regeneron\n",
    "regeneron_data_m['m_year'] = pd.to_datetime(regeneron_data_m['m_year'])\n",
    "regeneron_data_m = regeneron_data_m.rename(columns={'m_year':'date'})\n",
    "\n",
    "#vertex\n",
    "vertex_data_m['m_year'] = pd.to_datetime(vertex_data_m['m_year'])\n",
    "vertex_data_m = vertex_data_m.rename(columns={'m_year':'date'})"
   ]
  },
  {
   "cell_type": "code",
   "execution_count": null,
   "metadata": {},
   "outputs": [],
   "source": [
    "#Concatenate and create a dataset for all firms and clean it. \n",
    "guardian_firms_frames = [amgen_data_m, biogen_data_m, gilead_data_m, incyte_data_m, regeneron_data_m,\n",
    "                     vertex_data_m]\n",
    "\n",
    "the_guardian_data = pd.concat(guardian_firms_frames)\n",
    "the_guardian_data = the_guardian_data.reset_index()\n",
    "the_guardian_data['date'] = pd.to_datetime(the_guardian_data['date'])\n",
    "the_guardian_data.columns = the_guardian_data.columns.map(''.join)\n",
    "the_guardian_data = the_guardian_data.rename(columns={'no_articlessum':'no_articles',\n",
    "                                                      'sentiment_polaritymean':'polarity',\n",
    "                                                      'sentiment_subjectivitymean':'subjectivity',\n",
    "                                                      'total_wordssum':'total_words',\n",
    "                                                      'word_countsum':'count_word_stock'\n",
    "                                                     })\n",
    "the_guardian_data = the_guardian_data.drop(['index'], axis=1)"
   ]
  },
  {
   "cell_type": "code",
   "execution_count": null,
   "metadata": {},
   "outputs": [],
   "source": [
    "#Clean dataset for Biotechnology and Pharmaceutical companies. \n",
    "#biotec\n",
    "biotec_data_m.columns = biotec_data_m.columns.map(''.join)\n",
    "biotec_data_m = biotec_data_m.rename(columns={'no_articlessum':'no_articles',\n",
    "                                                      'sentiment_polaritymean':'polarity',\n",
    "                                                      'sentiment_subjectivitymean':'subjectivity',\n",
    "                                                      'total_wordssum':'total_words',\n",
    "                                                      'word_countsum':'count_word_stock'\n",
    "                                                     })\n",
    "biotec_data_m = biotec_data_m.add_suffix('_biotec')\n",
    "biotec_data_m = biotec_data_m.rename(columns={'m_year_biotec':'date'})\n",
    "biotec_data_m['date'] = pd.to_datetime(biotec_data_m['date'])\n",
    "\n",
    "\n",
    "#Pharma \n",
    "pharma_data_m.columns = pharma_data_m.columns.map(''.join)\n",
    "pharma_data_m = pharma_data_m.rename(columns={'no_articlessum':'no_articles',\n",
    "                                                      'sentiment_polaritymean':'polarity',\n",
    "                                                      'sentiment_subjectivitymean':'subjectivity',\n",
    "                                                      'total_wordssum':'total_words',\n",
    "                                                      'word_countsum':'count_word_stock'\n",
    "                                                     })\n",
    "pharma_data_m = pharma_data_m.add_suffix('_pharma')\n",
    "pharma_data_m = pharma_data_m.rename(columns={'m_year_pharma':'date'})\n",
    "pharma_data_m['date'] = pd.to_datetime(pharma_data_m['date'])\n"
   ]
  },
  {
   "cell_type": "code",
   "execution_count": null,
   "metadata": {},
   "outputs": [],
   "source": [
    "#Merge files to final_dataset\n",
    "#The guardian firm specific news\n",
    "final_dataset = pd.merge(final_dataset, the_guardian_data ,how='left',on=['ticker','date'])\n",
    "\n",
    "#Biotec\n",
    "final_dataset = pd.merge(final_dataset, biotec_data_m ,how='left',on=['date'])\n",
    "\n",
    "#Pharmaceutical \n",
    "final_dataset = pd.merge(final_dataset, pharma_data_m ,how='left',on=['date'])\n",
    "\n",
    "##Drop variables\n",
    "final_dataset = final_dataset.drop(('Unnamed: 0'), axis=1)"
   ]
  },
  {
   "cell_type": "code",
   "execution_count": null,
   "metadata": {},
   "outputs": [],
   "source": [
    "#Fill missing data with 0\n",
    "final_dataset = final_dataset.fillna(0)"
   ]
  },
  {
   "cell_type": "markdown",
   "metadata": {},
   "source": [
    "# Combine this data with financial data"
   ]
  },
  {
   "cell_type": "code",
   "execution_count": null,
   "metadata": {},
   "outputs": [],
   "source": [
    "#Pull financial data\n",
    "financial_data = pd.read_csv('constructed\\\\capstone\\\\combined_mthly_dataset_1.csv')\n",
    "financial_data = financial_data.drop(('Unnamed: 0'), axis=1)"
   ]
  },
  {
   "cell_type": "code",
   "execution_count": null,
   "metadata": {},
   "outputs": [],
   "source": [
    "#Merge\n",
    "financial_data = pd.merge(financial_data, final_dataset ,how='left',on=['ticker','year','month'])"
   ]
  },
  {
   "cell_type": "code",
   "execution_count": null,
   "metadata": {},
   "outputs": [],
   "source": [
    "#Export into CSV\n",
    "financial_data.to_csv('constructed\\\\capstone\\\\final_dataset_long.csv', index=False)"
   ]
  }
 ],
 "metadata": {
  "kernelspec": {
   "display_name": "Python 3",
   "language": "python",
   "name": "python3"
  },
  "language_info": {
   "codemirror_mode": {
    "name": "ipython",
    "version": 3
   },
   "file_extension": ".py",
   "mimetype": "text/x-python",
   "name": "python",
   "nbconvert_exporter": "python",
   "pygments_lexer": "ipython3",
   "version": "3.7.6"
  }
 },
 "nbformat": 4,
 "nbformat_minor": 4
}
